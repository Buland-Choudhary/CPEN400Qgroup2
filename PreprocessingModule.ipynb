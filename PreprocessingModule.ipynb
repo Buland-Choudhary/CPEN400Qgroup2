{
  "nbformat": 4,
  "nbformat_minor": 0,
  "metadata": {
    "colab": {
      "provenance": []
    },
    "kernelspec": {
      "name": "python3",
      "display_name": "Python 3"
    },
    "language_info": {
      "name": "python"
    }
  },
  "cells": [
    {
      "cell_type": "code",
      "source": [
        "import numpy as np\n",
        "import pandas as pd\n",
        "from sklearn.preprocessing import MinMaxScaler\n",
        "\n",
        "def load_time_series_data(file_path):\n",
        "    \"\"\"\n",
        "    Load time series data from a CSV file.\n",
        "    Assumes the CSV has a single column of time series data.\n",
        "    \"\"\"\n",
        "    data = pd.read_csv(file_path, header=None)\n",
        "    return data.values.flatten()\n",
        "\n",
        "def sliding_window(time_series, window_size, stride):\n",
        "    \"\"\"\n",
        "    Segment the time series into fixed-sized, overlapping windows.\n",
        "    \"\"\"\n",
        "    windows = []\n",
        "    for i in range(0, len(time_series) - window_size + 1, stride):\n",
        "        windows.append(time_series[i:i + window_size])\n",
        "    return np.array(windows)\n",
        "\n",
        "def normalize_windows(windows):\n",
        "    \"\"\"\n",
        "    Normalize each window to ensure it forms a valid probability distribution.\n",
        "    \"\"\"\n",
        "    scaler = MinMaxScaler()\n",
        "    normalized_windows = np.array([scaler.fit_transform(window.reshape(-1, 1)).flatten() for window in windows])\n",
        "    return normalized_windows\n",
        "\n",
        "def preprocess_data(file_path, window_size, stride):\n",
        "    \"\"\"\n",
        "    Preprocess the time series data:\n",
        "    1. Load the data.\n",
        "    2. Apply sliding window segmentation.\n",
        "    3. Normalize the windows.\n",
        "    \"\"\"\n",
        "    # Load time series data\n",
        "    time_series = load_time_series_data(file_path)\n",
        "\n",
        "    # Apply sliding window\n",
        "    windows = sliding_window(time_series, window_size, stride)\n",
        "\n",
        "    # Normalize windows\n",
        "    normalized_windows = normalize_windows(windows)\n",
        "\n",
        "    return normalized_windows\n",
        "\n",
        "# Example usage\n",
        "if __name__ == \"__main__\":\n",
        "    # Parameters\n",
        "    file_path = '178_UCR_Anomaly_ltstdbs30791AI_17555_52600_52800.txt'  # Replace with your file path\n",
        "    window_size = 8  # Size of each sliding window\n",
        "    stride = 2  # Stride for overlapping windows\n",
        "\n",
        "    # Preprocess data\n",
        "    preprocessed_data = preprocess_data(file_path, window_size, stride)\n",
        "    print(\"Preprocessed data shape:\", preprocessed_data.shape)\n",
        "    print(\"First window:\", preprocessed_data[0])"
      ],
      "metadata": {
        "colab": {
          "base_uri": "https://localhost:8080/"
        },
        "id": "KHWgBW5q8sAs",
        "outputId": "797d4e8d-7074-480e-a522-7e2b0ed818a2"
      },
      "execution_count": 25,
      "outputs": [
        {
          "output_type": "stream",
          "name": "stdout",
          "text": [
            "Preprocessed data shape: (28058, 8)\n",
            "First window: [1.   0.5  0.5  0.5  0.25 0.25 0.25 0.  ]\n"
          ]
        }
      ]
    }
  ]
}